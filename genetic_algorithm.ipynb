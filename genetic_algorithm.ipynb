{
 "cells": [
  {
   "cell_type": "code",
   "execution_count": 1,
   "metadata": {
    "collapsed": true
   },
   "outputs": [],
   "source": [
    "#!/usr/bin/env python\n",
    "# coding=utf-8\n",
    "\n",
    "# 输入: 物体的个数n，背包的容量m，物体的重量w[]和物体的价值p[]\n",
    "# 输出：装入背包的物体 x[]，背包中物体的价值 v\n",
    "\n",
    "# 物品编号：1-n\n",
    "\n",
    "from load_data import load_data\n",
    "import logging, time\n",
    "import random\n",
    "\n",
    "logging.basicConfig(format='%(levelname)s : %(message)s', level=logging.INFO)\n",
    "\n"
   ]
  },
  {
   "cell_type": "code",
   "execution_count": 2,
   "metadata": {
    "collapsed": false
   },
   "outputs": [],
   "source": [
    "n, m, w, p = load_data('data')\n",
    "w, p = w[1:], p[1:]"
   ]
  },
  {
   "cell_type": "code",
   "execution_count": 3,
   "metadata": {
    "collapsed": false
   },
   "outputs": [],
   "source": [
    "pop_num = 10   # 种群中个体的数量\n",
    "population, fitness = [], []\n",
    "best_indi, best_fitn = [], 0   # 保留最好的个体，使得结果至少不会越来越差\n",
    "epoch = 30\n",
    "crossover_prob = 0.5\n",
    "mutation_prob = 0.1\n"
   ]
  },
  {
   "cell_type": "code",
   "execution_count": 4,
   "metadata": {
    "collapsed": true
   },
   "outputs": [],
   "source": [
    "def cal_fitness(individual):\n",
    "    temp_sum = 0\n",
    "    for i in range(n):\n",
    "        temp_sum += individual[i] * w[i]\n",
    "    return temp_sum"
   ]
  },
  {
   "cell_type": "code",
   "execution_count": 5,
   "metadata": {
    "collapsed": true
   },
   "outputs": [],
   "source": [
    "def max_fitness():\n",
    "    temp_max, temp_num = 0, 0\n",
    "    for i in range(pop_num):\n",
    "        if cal_fitness(population[i]) > temp_max:\n",
    "            temp_max = cal_fitness(population[i])\n",
    "            temp_num = i\n",
    "            \n",
    "    return temp_max, temp_num"
   ]
  },
  {
   "cell_type": "code",
   "execution_count": 6,
   "metadata": {
    "collapsed": true
   },
   "outputs": [],
   "source": [
    "def initial_pop():\n",
    "    \n",
    "    global best_fitn\n",
    "    global best_indi\n",
    "    temp_num = 0\n",
    "    while True:\n",
    "        temp_individual = [round(random.uniform(0, 1), 0) for i in range(n)]\n",
    "        temp_fitness = cal_fitness(temp_individual)\n",
    "        if temp_fitness <= m:\n",
    "            population.append(temp_individual)\n",
    "            fitness.append(temp_fitness)\n",
    "            \n",
    "            if temp_fitness > best_fitn:\n",
    "                best_indi = temp_individual\n",
    "                best_fitn = temp_fitness\n",
    "            temp_num += 1\n",
    "            if temp_num >= pop_num:\n",
    "                break"
   ]
  },
  {
   "cell_type": "code",
   "execution_count": 7,
   "metadata": {
    "collapsed": false
   },
   "outputs": [],
   "source": [
    "def select():\n",
    "    \n",
    "    global population\n",
    "    global fitness\n",
    "    global best_fitn\n",
    "    global best_indi\n",
    "    \n",
    "    fitness_sum, upper_bound = 0, []\n",
    "    for i in range(pop_num):\n",
    "        fitness_sum += fitness[i]\n",
    "        if fitness[i] > best_fitn:\n",
    "            best_fitn = fitness[i]\n",
    "            best_indi = population[i]\n",
    "    upper_bound.append(fitness[0]/fitness_sum)\n",
    "    for i in range(1, pop_num):\n",
    "        upper_bound.append(upper_bound[i-1]+fitness[i]/fitness_sum)\n",
    "        \n",
    "    # 依据轮盘度算法产生新个体\n",
    "    new_population, new_fitness = [], []\n",
    "    new_population.append(best_indi)\n",
    "    new_fitness.append(best_fitn)\n",
    "    for i in range(1, pop_num):\n",
    "        temp_num = random.uniform(0, 1)\n",
    "        for j in range(pop_num):\n",
    "            if temp_num < upper_bound[j]:\n",
    "                new_population.append(population[j])\n",
    "                new_fitness.append(fitness[j])\n",
    "                break\n",
    "    \n",
    "    population, fitness = new_population[:], new_fitness[:]\n",
    "                "
   ]
  },
  {
   "cell_type": "code",
   "execution_count": 8,
   "metadata": {
    "collapsed": true
   },
   "outputs": [],
   "source": [
    "def crossover():\n",
    "    for i in range(pop_num):\n",
    "        if random.uniform(0, 1) <= crossover_prob:\n",
    "            while True:\n",
    "                j = random.randint(0, pop_num-1)\n",
    "                point = random.randint(0, n-1)\n",
    "                temp_indi1 = population[i][:point] + population[j][point:]\n",
    "                temp_indi2 = population[j][:point] + population[i][point:]\n",
    "                if cal_fitness(temp_indi1) <= m and cal_fitness(temp_indi2) <= m:\n",
    "                    population[i], population[j] = temp_indi1[:], temp_indi2[:]\n",
    "                    fitness[i], fitness[j] = cal_fitness(population[i]), cal_fitness(population[j])\n",
    "                    break\n",
    "            \n",
    "        "
   ]
  },
  {
   "cell_type": "code",
   "execution_count": 9,
   "metadata": {
    "collapsed": true
   },
   "outputs": [],
   "source": [
    "def mutation():\n",
    "    for i in range(pop_num):\n",
    "        if random.uniform(0, 1) <= mutation_prob:\n",
    "            point = random.randint(0, n-1)\n",
    "            temp_indi = population[i][:]\n",
    "            temp_indi[point] = 1 - temp_indi[point]\n",
    "            if cal_fitness(temp_indi) <= m:\n",
    "                population[i] = temp_indi[:]\n",
    "                fitness[i] = cal_fitness(temp_indi)"
   ]
  },
  {
   "cell_type": "code",
   "execution_count": 11,
   "metadata": {
    "collapsed": false
   },
   "outputs": [
    {
     "name": "stdout",
     "output_type": "stream",
     "text": [
      "1233\n",
      "1233.0\n",
      "1233.0\n",
      "1233.0\n",
      "1233.0\n",
      "1233.0\n",
      "1233.0\n",
      "1233.0\n",
      "1233.0\n",
      "1233.0\n",
      "1233.0\n",
      "1233.0\n",
      "1233.0\n",
      "1233.0\n",
      "1233.0\n",
      "1233.0\n",
      "1233.0\n",
      "1233.0\n",
      "1233.0\n",
      "1233.0\n",
      "1233.0\n",
      "1233.0\n",
      "1233.0\n",
      "1233.0\n",
      "1233.0\n",
      "1233.0\n",
      "1233.0\n",
      "1233.0\n",
      "1233.0\n",
      "1233.0\n",
      "1233.0\n",
      "Using 0.0221s\n"
     ]
    }
   ],
   "source": [
    "begin = time.time()\n",
    "\n",
    "# 产生初始种群\n",
    "initial_pop()\n",
    "\n",
    "print(m)\n",
    "for i in range(epoch):\n",
    "    select()\n",
    "    crossover()\n",
    "    mutation()\n",
    "    \n",
    "    temp_max, temp_num = max_fitness()\n",
    "    print(temp_max)\n",
    "\n",
    "end = time.time()\n",
    "print('Using %.4fs' %(end-begin))"
   ]
  },
  {
   "cell_type": "code",
   "execution_count": null,
   "metadata": {
    "collapsed": false
   },
   "outputs": [],
   "source": [
    "for i in range(10000):\n",
    "    temp_num = random.randint(0, 50)\n",
    "    if temp_num == 50:\n",
    "        print(temp_num)\n",
    "        break;"
   ]
  },
  {
   "cell_type": "code",
   "execution_count": null,
   "metadata": {
    "collapsed": true
   },
   "outputs": [],
   "source": []
  }
 ],
 "metadata": {
  "kernelspec": {
   "display_name": "Python 3",
   "language": "python",
   "name": "python3"
  },
  "language_info": {
   "codemirror_mode": {
    "name": "ipython",
    "version": 3
   },
   "file_extension": ".py",
   "mimetype": "text/x-python",
   "name": "python",
   "nbconvert_exporter": "python",
   "pygments_lexer": "ipython3",
   "version": "3.4.3"
  }
 },
 "nbformat": 4,
 "nbformat_minor": 0
}
