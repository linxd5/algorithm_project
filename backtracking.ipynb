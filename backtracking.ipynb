{
 "cells": [
  {
   "cell_type": "code",
   "execution_count": 3,
   "metadata": {
    "collapsed": true
   },
   "outputs": [],
   "source": [
    "\n",
    "\n",
    "\n",
    "m, n = 50, 5\n",
    "w = [5, 15, 25, 27, 30]\n",
    "p = [12, 30, 44, 46, 50]"
   ]
  },
  {
   "cell_type": "code",
   "execution_count": 4,
   "metadata": {
    "collapsed": false
   },
   "outputs": [],
   "source": [
    "# 物体按价值重量比的非增顺序排序\n",
    "\n",
    "wp = [[i, w[i], p[i], p[i]/w[i]] for i in range(n)]\n",
    "sorted_wp = sorted(wp, key=lambda x : x[3], reverse=True)"
   ]
  },
  {
   "cell_type": "code",
   "execution_count": 5,
   "metadata": {
    "collapsed": true
   },
   "outputs": [],
   "source": [
    "w_cur = p_cur = p_total = 0\n",
    "point = -1"
   ]
  },
  {
   "cell_type": "code",
   "execution_count": 6,
   "metadata": {
    "collapsed": true
   },
   "outputs": [],
   "source": [
    "part_solu, full_solu = [0 for i in range(n)], [0 for i in range(n)]"
   ]
  },
  {
   "cell_type": "code",
   "execution_count": 7,
   "metadata": {
    "collapsed": false
   },
   "outputs": [
    {
     "name": "stdout",
     "output_type": "stream",
     "text": [
      "\n",
      "\n",
      "当前节点的上界: 94.5    当前上限: 0.0\n",
      "节点的上界大于当前上限\n",
      "一直装入物品直到不能装入为止:  [1, 1, 1, 0]\n",
      "\n",
      "\n",
      "当前节点的上界: 94.3    当前上限: 0.0\n",
      "节点的上界大于当前上限\n",
      "一直装入物品直到不能装入为止:  [1, 1, 1, 0, 0]\n",
      "\n",
      "\n",
      "当前节点的上界: 86.0    当前上限: 86.0\n",
      "节点的上界小于当前上限\n",
      "抛弃最近装入的一个物品:  [1, 1, 0]\n",
      "\n",
      "\n",
      "当前节点的上界: 93.0    当前上限: 86.0\n",
      "节点的上界大于当前上限\n",
      "一直装入物品直到不能装入为止:  [1, 1, 0, 1, 0]\n",
      "\n",
      "\n",
      "当前节点的上界: 88.0    当前上限: 88.0\n",
      "节点的上界小于当前上限\n",
      "抛弃最近装入的一个物品:  [1, 1, 0, 0]\n",
      "\n",
      "\n",
      "当前节点的上界: 92.0    当前上限: 88.0\n",
      "节点的上界大于当前上限\n",
      "一直装入物品直到不能装入为止:  [1, 1, 0, 0, 1]\n",
      "\n",
      "\n",
      "当前节点的上界: 92.0    当前上限: 92.0\n",
      "节点的上界小于当前上限\n",
      "抛弃最近装入的一个物品:  [1, 1, 0, 0, 0]\n",
      "\n",
      "\n",
      "当前节点的上界: 42.0    当前上限: 92.0\n",
      "节点的上界小于当前上限\n",
      "抛弃最近装入的一个物品:  [1, 0]\n",
      "\n",
      "\n",
      "当前节点的上界: 90.1    当前上限: 92.0\n",
      "节点的上界小于当前上限\n",
      "抛弃最近装入的一个物品:  [0]\n",
      "\n",
      "\n",
      "当前节点的上界: 91.0    当前上限: 92.0\n",
      "背包的物体:  [1, 1, 0, 0, 1]\n",
      "背包的价值:  92\n",
      "程序结束\n"
     ]
    }
   ],
   "source": [
    "temp_num = 0\n",
    "\n",
    "while True:\n",
    "    \n",
    "    # 求当前节点的上界\n",
    "    w_est, p_est = w_cur, p_cur\n",
    "    for i in range(point+1, n):\n",
    "        if w_est + sorted_wp[i][1] <= m:\n",
    "            w_est += sorted_wp[i][1]\n",
    "            p_est += sorted_wp[i][2]\n",
    "        else:\n",
    "            p_est += (m-w_est)*sorted_wp[i][3]\n",
    "            break\n",
    "    print(\"\\n\\n当前节点的上界: %.1f    当前上限: %.1f\" %(p_est, p_total))\n",
    "    \n",
    "   \n",
    "    # 如果节点的上界大于当前上限，一直装入物品直到不能装入为止\n",
    "    if p_est > p_total:\n",
    "        \n",
    "        for i in range(point+1, n):\n",
    "            point += 1\n",
    "            if w_cur + sorted_wp[i][1] <= m:\n",
    "                w_cur += sorted_wp[i][1]\n",
    "                p_cur += sorted_wp[i][2]\n",
    "                part_solu[point] = 1\n",
    "                \n",
    "            elif point < n:\n",
    "                part_solu[point] = 0\n",
    "                break\n",
    "        if point == n-1 and p_cur > p_total:\n",
    "            p_total = p_cur\n",
    "            full_solu = part_solu[:]    \n",
    "      \n",
    "    \n",
    "        print(\"节点的上界大于当前上限\")\n",
    "        print(\"一直装入物品直到不能装入为止: \", part_solu[:point+1])\n",
    "    \n",
    "    # 如果节点的上界小于当前上限，将最近装入的一个物品抛弃掉 \n",
    "    else:\n",
    "        while ((point>=0) and (part_solu[point]==0)):\n",
    "            point -= 1\n",
    "        if (point < 0):\n",
    "            print(\"背包的物体: \", full_solu)\n",
    "            print(\"背包的价值: \", p_total)\n",
    "            print(\"程序结束\")\n",
    "            break\n",
    "        else:\n",
    "            part_solu[point] = 0\n",
    "            w_cur -= sorted_wp[point][1]\n",
    "            p_cur -= sorted_wp[point][2]\n",
    "        print(\"节点的上界小于当前上限\")\n",
    "        print(\"抛弃最近装入的一个物品: \", part_solu[:point+1])\n",
    "        \n",
    "    temp_num += 1\n",
    "    if temp_num > 100: break"
   ]
  },
  {
   "cell_type": "code",
   "execution_count": null,
   "metadata": {
    "collapsed": true
   },
   "outputs": [],
   "source": []
  }
 ],
 "metadata": {
  "kernelspec": {
   "display_name": "Python 3",
   "language": "python",
   "name": "python3"
  },
  "language_info": {
   "codemirror_mode": {
    "name": "ipython",
    "version": 3
   },
   "file_extension": ".py",
   "mimetype": "text/x-python",
   "name": "python",
   "nbconvert_exporter": "python",
   "pygments_lexer": "ipython3",
   "version": "3.4.3"
  }
 },
 "nbformat": 4,
 "nbformat_minor": 0
}
